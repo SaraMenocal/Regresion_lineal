{
 "cells": [
  {
   "cell_type": "code",
   "execution_count": 1,
   "id": "b543a846",
   "metadata": {},
   "outputs": [],
   "source": [
    "# Librerías utilizadas\n",
    "import pandas as pd\n",
    "import numpy as np\n",
    "import matplotlib.pyplot as plt\n",
    "import seaborn as sns\n",
    "from sklearn.linear_model import LinearRegression"
   ]
  },
  {
   "cell_type": "code",
   "execution_count": 2,
   "id": "27c188b2",
   "metadata": {},
   "outputs": [
    {
     "data": {
      "text/plain": [
       "(26401, 76)"
      ]
     },
     "execution_count": 2,
     "metadata": {},
     "output_type": "execute_result"
    }
   ],
   "source": [
    "df = pd.read_csv('Mexico_City.csv') # Cargar ya el dataset limpio de NAs y Outliers\n",
    "df.shape"
   ]
  },
  {
   "cell_type": "code",
   "execution_count": 3,
   "id": "e0bd4f4e",
   "metadata": {},
   "outputs": [
    {
     "name": "stdout",
     "output_type": "stream",
     "text": [
      "0        0\n",
      "1        0\n",
      "2        0\n",
      "3        0\n",
      "4        1\n",
      "        ..\n",
      "26396    0\n",
      "26397    0\n",
      "26398    1\n",
      "26399    0\n",
      "26400    0\n",
      "Name: host_is_superhost, Length: 26401, dtype: int64\n"
     ]
    }
   ],
   "source": [
    "# Conversión variable categórica 'host_is_superhost' a numérica\n",
    "df['host_is_superhost'] = df['host_is_superhost'].map({'t': 1, 'f': 0})\n",
    "print(df['host_is_superhost'])"
   ]
  },
  {
   "cell_type": "code",
   "execution_count": 4,
   "id": "c4a4f97d",
   "metadata": {},
   "outputs": [],
   "source": [
    "# seleccionar solo las variables numéricas\n",
    "df_num = df.select_dtypes(include='number')\n",
    "matriz_corr = df_num.corr().round(4)"
   ]
  },
  {
   "cell_type": "markdown",
   "id": "b27573fc",
   "metadata": {},
   "source": [
    "**1. Calificación general de los huéspedes (review scores rating**)"
   ]
  },
  {
   "cell_type": "code",
   "execution_count": 77,
   "id": "2d22df7f",
   "metadata": {},
   "outputs": [],
   "source": [
    "# Creación con mi aportación ayuda de material de clase del profe Fredy y  de IA "
   ]
  },
  {
   "cell_type": "code",
   "execution_count": 5,
   "id": "56869af6",
   "metadata": {},
   "outputs": [
    {
     "data": {
      "text/plain": [
       "review_scores_rating           1.0000\n",
       "review_scores_value            0.6591\n",
       "review_scores_accuracy         0.6475\n",
       "review_scores_cleanliness      0.5536\n",
       "review_scores_communication    0.5299\n",
       "review_scores_checkin          0.4924\n",
       "review_scores_location         0.3136\n",
       "host_is_superhost              0.1821\n",
       "minimum_nights_avg_ntm         0.0773\n",
       "id                             0.0737\n",
       "Name: review_scores_rating, dtype: float64"
      ]
     },
     "execution_count": 5,
     "metadata": {},
     "output_type": "execute_result"
    }
   ],
   "source": [
    "# Mostrar las correlaciones de 'review_scores_rating' con otras variables\n",
    "matriz_corr['review_scores_rating'].sort_values(ascending=False).head(10)"
   ]
  },
  {
   "cell_type": "code",
   "execution_count": null,
   "id": "72687daa",
   "metadata": {},
   "outputs": [
    {
     "name": "stdout",
     "output_type": "stream",
     "text": [
      "Coeficientes obtenidos para calificación general: [0.30409174 0.27871496 0.15878669 0.18068229 0.13661208]\n",
      "Intercepto: -0.30521517986350233\n",
      "Coeficiente de determinación: 0.5822853052796246\n",
      "Coeficiente de correlación: 0.7630762119733682\n",
      "Modelo matemático:\n",
      "Calificación general = -0.3052 + 0.3041*review_scores_accuracy + 0.2787*review_scores_value + 0.1588*review_scores_cleanliness + 0.1807*review_scores_communication + 0.1366*review_scores_checkin\n"
     ]
    }
   ],
   "source": [
    "# Modelo de regresión lineal múltiple para predecir 'review_scores_rating' usando las variables más correlacionadas \n",
    "\n",
    "# Definir variables independientes y dependiente\n",
    "X = df[['review_scores_accuracy', 'review_scores_value', 'review_scores_cleanliness',\n",
    "             'review_scores_communication', 'review_scores_checkin']]\n",
    "\n",
    "y = df['review_scores_rating']\n",
    "\n",
    "# Ajustar modelo\n",
    "model = LinearRegression()\n",
    "model.fit(X, y)\n",
    "\n",
    "# Coeficiente de intercepto y coeficientes\n",
    "print(f\"Coeficientes obtenidos para calificación general:\", model.coef_)\n",
    "print(f\"Intercepto:\", model.intercept_)\n",
    "\n",
    "coef_deter = model.score(X, y)  # Coef de determinación\n",
    "print(\"Coeficiente de determinación:\", coef_deter)\n",
    "\n",
    "coef_corre = np.sqrt(coef_deter)  # Coef de correlación\n",
    "print(\"Coeficiente de correlación:\", coef_corre)\n",
    "\n",
    "# Resultados del modelo\n",
    "modelo_str = f\"Calificación general = {model.intercept_:.4f}\"\n",
    "for c, v in zip(model.coef_, X.columns):\n",
    "    signo = \"+\" if c >= 0 else \"-\"\n",
    "    modelo_str += f\" {signo} {abs(c):.4f}*{v}\"\n",
    "print(\"Modelo matemático:\")\n",
    "print(modelo_str)"
   ]
  },
  {
   "cell_type": "markdown",
   "id": "900fcce8",
   "metadata": {},
   "source": [
    "**2. Tasa de aceptación (host acceptance rate)**"
   ]
  },
  {
   "cell_type": "code",
   "execution_count": 7,
   "id": "745d554a",
   "metadata": {},
   "outputs": [
    {
     "data": {
      "text/plain": [
       "host_acceptance_rate         1.0000\n",
       "host_response_rate           0.4968\n",
       "estimated_occupancy_l365d    0.2175\n",
       "number_of_reviews_ltm        0.1885\n",
       "availability_365             0.1662\n",
       "reviews_per_month            0.1574\n",
       "number_of_reviews_ly         0.1519\n",
       "availability_eoy             0.1471\n",
       "estimated_revenue_l365d      0.1467\n",
       "host_is_superhost            0.1450\n",
       "Name: host_acceptance_rate, dtype: float64"
      ]
     },
     "execution_count": 7,
     "metadata": {},
     "output_type": "execute_result"
    }
   ],
   "source": [
    "# Mostrar las correlaciones de 'host_acceptance_rate' con otras variables\n",
    "matriz_corr['host_acceptance_rate'].sort_values(ascending=False).head(10)"
   ]
  },
  {
   "cell_type": "code",
   "execution_count": null,
   "id": "38e42c3d",
   "metadata": {},
   "outputs": [
    {
     "name": "stdout",
     "output_type": "stream",
     "text": [
      "Coeficientes obtenidos de tasa de aceptación: [0.53236518 0.00762829]\n",
      "Intercepto: 43.82315165987614\n",
      "Coeficiente de determinación: 0.2623251360538845\n",
      "Coeficiente de correlación: 0.512176860131229\n",
      "Modelo matemático:\n",
      "Tasa de aceptación del host = 43.8232 + 0.5324*host_response_rate + 0.0076*estimated_occupancy_l365d\n"
     ]
    }
   ],
   "source": [
    "# Modelo de regresión lineal múltiple para predecir 'host_acceptance_rate' usando las variables más correlacionadas \n",
    "from sklearn.linear_model import LinearRegression\n",
    "# Definir variables independientes y dependiente\n",
    "X = df[['host_response_rate', 'estimated_occupancy_l365d']]\n",
    "y = df['host_acceptance_rate']\n",
    "\n",
    "# Ajustar modelo\n",
    "model = LinearRegression()\n",
    "model.fit(X, y)\n",
    "\n",
    "# Coeficiente de intercepto y coeficientes\n",
    "print(f\"Coeficientes obtenidos de tasa de aceptación:\", model.coef_)\n",
    "print(f\"Intercepto:\", model.intercept_)\n",
    "\n",
    "coef_deter = model.score(X, y)  # Coef de determinación\n",
    "print(\"Coeficiente de determinación:\", coef_deter)\n",
    "\n",
    "coef_corre = np.sqrt(coef_deter)  # Coef de correlación\n",
    "print(\"Coeficiente de correlación:\", coef_corre)\n",
    "\n",
    "# Resultados del modelo\n",
    "modelo_str = f\"Tasa de aceptación del host = {model.intercept_:.4f}\"\n",
    "for c, v in zip(model.coef_, X.columns):\n",
    "    signo = \"+\" if c >= 0 else \"-\"\n",
    "    modelo_str += f\" {signo} {abs(c):.4f}*{v}\"\n",
    "print(\"Modelo matemático:\")\n",
    "print(modelo_str)"
   ]
  },
  {
   "cell_type": "markdown",
   "id": "0e32c49c",
   "metadata": {},
   "source": [
    "**3. Anfitrión es buen anfitrión (Host is superhost)**"
   ]
  },
  {
   "cell_type": "code",
   "execution_count": 9,
   "id": "c55c498a",
   "metadata": {},
   "outputs": [
    {
     "data": {
      "text/plain": [
       "host_is_superhost              1.0000\n",
       "estimated_occupancy_l365d      0.3511\n",
       "number_of_reviews_ltm          0.3353\n",
       "number_of_reviews_ly           0.3020\n",
       "number_of_reviews              0.2635\n",
       "estimated_revenue_l365d        0.2627\n",
       "reviews_per_month              0.2172\n",
       "host_response_rate             0.2166\n",
       "review_scores_rating           0.1821\n",
       "review_scores_communication    0.1709\n",
       "Name: host_is_superhost, dtype: float64"
      ]
     },
     "execution_count": 9,
     "metadata": {},
     "output_type": "execute_result"
    }
   ],
   "source": [
    "# Mostrar las correlaciones de 'host_is_superhost' con otras variables\n",
    "matriz_corr['host_is_superhost'].sort_values(ascending=False).head(10)"
   ]
  },
  {
   "cell_type": "code",
   "execution_count": null,
   "id": "d620e345",
   "metadata": {},
   "outputs": [
    {
     "name": "stdout",
     "output_type": "stream",
     "text": [
      "Coeficientes obtenidos de super anfitrión: [0.00111826 0.00420437 0.01534833]\n",
      "Intercepto: -1.2778747851691548\n",
      "Coeficiente de determinación: 0.15104201148888552\n",
      "Coeficiente de correlación: 0.3886412375043152\n",
      "Modelo matemático:\n",
      "Host es superhost = -1.2779 + 0.0011*estimated_occupancy_l365d + 0.0042*number_of_reviews_ltm + 0.0153*host_response_rate\n"
     ]
    }
   ],
   "source": [
    "# Modelo de regresión lineal múltiple para predecir 'host_is_superhost' usando las variables más correlacionadas \n",
    "\n",
    "# Definir variables independientes y dependiente\n",
    "X = df[['estimated_occupancy_l365d', 'number_of_reviews_ltm','host_response_rate']]\n",
    "y = df['host_is_superhost']\n",
    "\n",
    "# Ajustar modelo\n",
    "model = LinearRegression()\n",
    "model.fit(X, y)\n",
    "\n",
    "# Coeficiente de intercepto y coeficientes\n",
    "print(f\"Coeficientes obtenidos de super anfitrión:\", model.coef_)\n",
    "print(f\"Intercepto:\", model.intercept_)\n",
    "\n",
    "coef_deter = model.score(X, y)  # Coef de determinación\n",
    "print(\"Coeficiente de determinación:\", coef_deter)\n",
    "\n",
    "coef_corre = np.sqrt(coef_deter)  # Coef de correlación\n",
    "print(\"Coeficiente de correlación:\", coef_corre)\n",
    "\n",
    "# Resultados del modelo\n",
    "modelo_str = f\"Host es superhost = {model.intercept_:.4f}\"\n",
    "for c, v in zip(model.coef_, X.columns):\n",
    "    signo = \"+\" if c >= 0 else \"-\"\n",
    "    modelo_str += f\" {signo} {abs(c):.4f}*{v}\"\n",
    "print(\"Modelo matemático:\")\n",
    "print(modelo_str)"
   ]
  },
  {
   "cell_type": "markdown",
   "id": "8e3eecfa",
   "metadata": {},
   "source": [
    "**4. Host total listings count**"
   ]
  },
  {
   "cell_type": "code",
   "execution_count": 11,
   "id": "b8ddb7fd",
   "metadata": {},
   "outputs": [
    {
     "data": {
      "text/plain": [
       "host_total_listings_count                      1.0000\n",
       "host_listings_count                            0.7927\n",
       "calculated_host_listings_count                 0.6373\n",
       "calculated_host_listings_count_entire_homes    0.3605\n",
       "host_acceptance_rate                           0.1317\n",
       "host_response_rate                             0.1053\n",
       "availability_90                                0.0929\n",
       "availability_60                                0.0897\n",
       "availability_eoy                               0.0871\n",
       "maximum_maximum_nights                         0.0833\n",
       "Name: host_total_listings_count, dtype: float64"
      ]
     },
     "execution_count": 11,
     "metadata": {},
     "output_type": "execute_result"
    }
   ],
   "source": [
    "# Mostrar las correlaciones de 'host_total_listings_count' con otras variables\n",
    "matriz_corr['host_total_listings_count'].sort_values(ascending=False).head(10)"
   ]
  },
  {
   "cell_type": "code",
   "execution_count": 25,
   "id": "0146050d",
   "metadata": {},
   "outputs": [
    {
     "name": "stdout",
     "output_type": "stream",
     "text": [
      "Coeficientes obtenidos de host total listings count: [0.85375613 0.14553641]\n",
      "Intercepto: 1.4001315540320904\n",
      "Coeficiente de determinación: 0.6332144901223933\n",
      "Coeficiente de correlación: 0.7957477553360696\n",
      "Modelo matemático:\n",
      "Host total listings count = 1.4001 + 0.8538*host_listings_count + 0.1455*calculated_host_listings_count\n"
     ]
    }
   ],
   "source": [
    "# Modelo de regresión lineal múltiple para predecir 'host_total_listings_count' usando las variables más correlacionadas \n",
    "\n",
    "# Definir variables independientes y dependiente\n",
    "X = df[['host_listings_count', 'calculated_host_listings_count']]\n",
    "y = df['host_total_listings_count']\n",
    "\n",
    "# Ajustar modelo\n",
    "model = LinearRegression()\n",
    "model.fit(X, y)\n",
    "\n",
    "# Coeficiente de intercepto y coeficientes\n",
    "print(f\"Coeficientes obtenidos de host total listings count:\", model.coef_)\n",
    "print(f\"Intercepto:\", model.intercept_)\n",
    "\n",
    "coef_deter = model.score(X, y)  # Coef de determinación\n",
    "print(\"Coeficiente de determinación:\", coef_deter)\n",
    "\n",
    "coef_corre = np.sqrt(coef_deter)  # Coef de correlación\n",
    "print(\"Coeficiente de correlación:\", coef_corre)\n",
    "\n",
    "# Resultados del modelo\n",
    "modelo_str = f\"Host total listings count = {model.intercept_:.4f}\"\n",
    "for c, v in zip(model.coef_, X.columns):\n",
    "    signo = \"+\" if c >= 0 else \"-\"\n",
    "    modelo_str += f\" {signo} {abs(c):.4f}*{v}\"\n",
    "print(\"Modelo matemático:\")\n",
    "print(modelo_str)"
   ]
  },
  {
   "cell_type": "markdown",
   "id": "00c0dc0b",
   "metadata": {},
   "source": [
    "**Capacidad de alojamiento (Accommodates)**"
   ]
  },
  {
   "cell_type": "code",
   "execution_count": 13,
   "id": "02e3b025",
   "metadata": {},
   "outputs": [
    {
     "data": {
      "text/plain": [
       "accommodates                                   1.0000\n",
       "bedrooms                                       0.6493\n",
       "beds                                           0.5513\n",
       "price                                          0.3978\n",
       "bathrooms                                      0.3791\n",
       "estimated_revenue_l365d                        0.2163\n",
       "estimated_occupancy_l365d                      0.1465\n",
       "number_of_reviews_ltm                          0.1430\n",
       "calculated_host_listings_count_entire_homes    0.1409\n",
       "number_of_reviews_ly                           0.1348\n",
       "Name: accommodates, dtype: float64"
      ]
     },
     "execution_count": 13,
     "metadata": {},
     "output_type": "execute_result"
    }
   ],
   "source": [
    "# Mostrar las correlaciones de 'accommodates' con otras variables\n",
    "matriz_corr['accommodates'].sort_values(ascending=False).head(10)"
   ]
  },
  {
   "cell_type": "code",
   "execution_count": 32,
   "id": "f6a50484",
   "metadata": {},
   "outputs": [
    {
     "name": "stdout",
     "output_type": "stream",
     "text": [
      "Coeficientes obtenidos de capacidad de alojamiento [9.85357473e-01 6.42856530e-01 4.05153019e-04 9.09922957e-02]\n",
      "Intercepto: 0.0667443898157023\n",
      "Coeficiente de determinación: 0.531362260313788\n",
      "Coeficiente de correlación: 0.7289459927277109\n",
      "Modelo matemático:\n",
      "Capacidad de alojamiento = 0.0667 + 0.9854*bedrooms + 0.6429*beds + 0.0004*price + 0.0910*bathrooms\n"
     ]
    }
   ],
   "source": [
    "# Modelo de regresión lineal múltiple para predecir 'accommodates' usando las variables más correlacionadas \n",
    "\n",
    "# Definir variables independientes y dependiente\n",
    "X = df[['bedrooms', 'beds', 'price', 'bathrooms']]\n",
    "y = df['accommodates']\n",
    "\n",
    "# Ajustar modelo\n",
    "model = LinearRegression()\n",
    "model.fit(X, y)\n",
    "\n",
    "# Coeficiente de intercepto y coeficientes\n",
    "print(f\"Coeficientes obtenidos de capacidad de alojamiento\", model.coef_)\n",
    "print(f\"Intercepto:\", model.intercept_)\n",
    "\n",
    "coef_deter = model.score(X, y)  # Coef de determinación\n",
    "print(\"Coeficiente de determinación:\", coef_deter)\n",
    "\n",
    "coef_corre = np.sqrt(coef_deter)  # Coef de correlación\n",
    "print(\"Coeficiente de correlación:\", coef_corre)\n",
    "\n",
    "# Resultados del modelo\n",
    "modelo_str = f\"Capacidad de alojamiento = {model.intercept_:.4f}\"\n",
    "for c, v in zip(model.coef_, X.columns):\n",
    "    signo = \"+\" if c >= 0 else \"-\"\n",
    "    modelo_str += f\" {signo} {abs(c):.4f}*{v}\"\n",
    "print(\"Modelo matemático:\")\n",
    "print(modelo_str)"
   ]
  },
  {
   "cell_type": "markdown",
   "id": "96fa8b31",
   "metadata": {},
   "source": [
    "**Habitaciones (Bedrooms)**"
   ]
  },
  {
   "cell_type": "code",
   "execution_count": 31,
   "id": "5f11d072",
   "metadata": {},
   "outputs": [
    {
     "data": {
      "text/plain": [
       "bedrooms                   1.0000\n",
       "accommodates               0.6493\n",
       "bathrooms                  0.5238\n",
       "beds                       0.4448\n",
       "price                      0.3489\n",
       "estimated_revenue_l365d    0.1347\n",
       "maximum_minimum_nights     0.1205\n",
       "minimum_nights_avg_ntm     0.1109\n",
       "minimum_nights             0.1066\n",
       "minimum_minimum_nights     0.0931\n",
       "Name: bedrooms, dtype: float64"
      ]
     },
     "execution_count": 31,
     "metadata": {},
     "output_type": "execute_result"
    }
   ],
   "source": [
    "# Mostrar las correlaciones de 'bedrooms' con otras variables\n",
    "matriz_corr['bedrooms'].sort_values(ascending=False).head(10)"
   ]
  },
  {
   "cell_type": "code",
   "execution_count": 36,
   "id": "0fb130c3",
   "metadata": {},
   "outputs": [
    {
     "name": "stdout",
     "output_type": "stream",
     "text": [
      "Coeficientes obtenidos de habitaciones: [0.2058715  0.36274987 0.10717309]\n",
      "Intercepto: 0.14557316015793775\n",
      "Coeficiente de determinación: 0.5210251475097749\n",
      "Coeficiente de correlación: 0.721820717013425\n",
      "Modelo matemático:\n",
      "Habitaciones = 0.1456 + 0.2059*accommodates + 0.3627*bathrooms + 0.1072*beds\n"
     ]
    }
   ],
   "source": [
    "# Modelo de regresión lineal múltiple para predecir 'bedrooms' usando las variables más correlacionadas \n",
    "\n",
    "# Definir variables independientes y dependiente\n",
    "X = df[['accommodates', 'bathrooms', 'beds']]\n",
    "y = df['bedrooms']\n",
    "\n",
    "# Ajustar modelo\n",
    "model = LinearRegression()\n",
    "model.fit(X, y)\n",
    "\n",
    "# Coeficiente de intercepto y coeficientes\n",
    "print(f\"Coeficientes obtenidos de habitaciones:\", model.coef_)\n",
    "print(f\"Intercepto:\", model.intercept_)\n",
    "\n",
    "coef_deter = model.score(X, y)  # Coef de determinación\n",
    "print(\"Coeficiente de determinación:\", coef_deter)\n",
    "\n",
    "coef_corre = np.sqrt(coef_deter)  # Coef de correlación\n",
    "print(\"Coeficiente de correlación:\", coef_corre)\n",
    "\n",
    "# Resultados del modelo\n",
    "modelo_str = f\"Habitaciones = {model.intercept_:.4f}\"\n",
    "for c, v in zip(model.coef_, X.columns):\n",
    "    signo = \"+\" if c >= 0 else \"-\"\n",
    "    modelo_str += f\" {signo} {abs(c):.4f}*{v}\"\n",
    "print(\"Modelo matemático:\")\n",
    "print(modelo_str)"
   ]
  },
  {
   "cell_type": "markdown",
   "id": "fb15e923",
   "metadata": {},
   "source": [
    "**Precio (price)**"
   ]
  },
  {
   "cell_type": "code",
   "execution_count": 37,
   "id": "e1de7e54",
   "metadata": {},
   "outputs": [
    {
     "data": {
      "text/plain": [
       "price                                          1.0000\n",
       "accommodates                                   0.3978\n",
       "bedrooms                                       0.3489\n",
       "bathrooms                                      0.2750\n",
       "beds                                           0.2479\n",
       "estimated_revenue_l365d                        0.2243\n",
       "calculated_host_listings_count_entire_homes    0.2046\n",
       "latitude                                       0.1571\n",
       "maximum_minimum_nights                         0.1133\n",
       "reviews_per_month                              0.0956\n",
       "Name: price, dtype: float64"
      ]
     },
     "execution_count": 37,
     "metadata": {},
     "output_type": "execute_result"
    }
   ],
   "source": [
    "# Mostrar las correlaciones de 'price' con otras variables\n",
    "matriz_corr['price'].sort_values(ascending=False).head(10)"
   ]
  },
  {
   "cell_type": "code",
   "execution_count": 46,
   "id": "f3fa9d8e",
   "metadata": {},
   "outputs": [
    {
     "name": "stdout",
     "output_type": "stream",
     "text": [
      "Coeficientes obtenidos de precio [102.50160806  95.70112706 113.00372323  28.03935832]\n",
      "Intercepto: 412.20451104882784\n",
      "Coeficiente de determinación: 0.20545924968614626\n",
      "Coeficiente de correlación: 0.45327612962315394\n",
      "Modelo matemático:\n",
      "Precio = 412.2045 + 102.5016*accommodates + 95.7011*bedrooms + 113.0037*bathrooms + 28.0394*calculated_host_listings_count_entire_homes\n"
     ]
    }
   ],
   "source": [
    "# Modelo de regresión lineal múltiple para predecir 'price' usando las variables más correlacionadas \n",
    "\n",
    "# Definir variables independientes y dependiente\n",
    "X = df[['accommodates', 'bedrooms', 'bathrooms', 'calculated_host_listings_count_entire_homes']]\n",
    "y = df['price']\n",
    "\n",
    "# Ajustar modelo\n",
    "model = LinearRegression()\n",
    "model.fit(X, y)\n",
    "\n",
    "# Coeficiente de intercepto y coeficientes\n",
    "print(f\"Coeficientes obtenidos de precio\", model.coef_)\n",
    "print(f\"Intercepto:\", model.intercept_)\n",
    "\n",
    "coef_deter = model.score(X, y)  # Coef de determinación\n",
    "print(\"Coeficiente de determinación:\", coef_deter)\n",
    "\n",
    "coef_corre = np.sqrt(coef_deter)  # Coef de correlación\n",
    "print(\"Coeficiente de correlación:\", coef_corre)\n",
    "\n",
    "# Resultados del modelo\n",
    "modelo_str = f\"Precio = {model.intercept_:.4f}\"\n",
    "for c, v in zip(model.coef_, X.columns):\n",
    "    signo = \"+\" if c >= 0 else \"-\"\n",
    "    modelo_str += f\" {signo} {abs(c):.4f}*{v}\"\n",
    "print(\"Modelo matemático:\")\n",
    "print(modelo_str)"
   ]
  },
  {
   "cell_type": "markdown",
   "id": "beceb70b",
   "metadata": {},
   "source": [
    "**Calificación del valor percibido (review scores value)**"
   ]
  },
  {
   "cell_type": "code",
   "execution_count": 47,
   "id": "c7374918",
   "metadata": {},
   "outputs": [
    {
     "data": {
      "text/plain": [
       "review_scores_value            1.0000\n",
       "review_scores_rating           0.6591\n",
       "review_scores_accuracy         0.6044\n",
       "review_scores_cleanliness      0.5098\n",
       "review_scores_communication    0.4884\n",
       "review_scores_checkin          0.4597\n",
       "review_scores_location         0.3395\n",
       "host_is_superhost              0.1340\n",
       "minimum_minimum_nights         0.0808\n",
       "minimum_nights_avg_ntm         0.0790\n",
       "Name: review_scores_value, dtype: float64"
      ]
     },
     "execution_count": 47,
     "metadata": {},
     "output_type": "execute_result"
    }
   ],
   "source": [
    "# Mostrar las correlaciones de 'review_scores_value' con otras variables\n",
    "matriz_corr['review_scores_value'].sort_values(ascending=False).head(10)"
   ]
  },
  {
   "cell_type": "code",
   "execution_count": 76,
   "id": "381c5013",
   "metadata": {},
   "outputs": [
    {
     "name": "stdout",
     "output_type": "stream",
     "text": [
      "Coeficientes obtenidos de review scores value: [0.44839672 0.33349952 0.20762428]\n",
      "Intercepto: -0.002664225805133924\n",
      "Coeficiente de determinación: 0.50200797697564\n",
      "Coeficiente de correlación: 0.7085252126605235\n",
      "Modelo matemático:\n",
      "Review scores value = -0.0027 + 0.4484*review_scores_rating + 0.3335*review_scores_accuracy + 0.2076*review_scores_communication\n"
     ]
    }
   ],
   "source": [
    "# Modelo de regresión lineal múltiple para predecir 'review_scores_value' usando las variables más correlacionadas \n",
    "\n",
    "# Definir variables independientes y dependiente\n",
    "X = df[['review_scores_rating', 'review_scores_accuracy',\n",
    "                 'review_scores_communication']]\n",
    "y = df['review_scores_value']\n",
    "\n",
    "# Ajustar modelo\n",
    "model = LinearRegression()\n",
    "model.fit(X, y)\n",
    "\n",
    "# Coeficiente de intercepto y coeficientes\n",
    "print(f\"Coeficientes obtenidos de review scores value:\", model.coef_)\n",
    "print(f\"Intercepto:\", model.intercept_)\n",
    "\n",
    "coef_deter = model.score(X, y)  # Coef de determinación\n",
    "print(\"Coeficiente de determinación:\", coef_deter)\n",
    "\n",
    "coef_corre = np.sqrt(coef_deter)  # Coef de correlación\n",
    "print(\"Coeficiente de correlación:\", coef_corre)\n",
    "\n",
    "# Resultados del modelo\n",
    "modelo_str = f\"Review scores value = {model.intercept_:.4f}\"\n",
    "for c, v in zip(model.coef_, X.columns):\n",
    "    signo = \"+\" if c >= 0 else \"-\"\n",
    "    modelo_str += f\" {signo} {abs(c):.4f}*{v}\"\n",
    "print(\"Modelo matemático:\")\n",
    "print(modelo_str)"
   ]
  },
  {
   "cell_type": "markdown",
   "id": "c0ba0af9",
   "metadata": {},
   "source": [
    "**Baños (bathrooms)**"
   ]
  },
  {
   "cell_type": "code",
   "execution_count": 75,
   "id": "f1139bcc",
   "metadata": {},
   "outputs": [
    {
     "data": {
      "text/plain": [
       "bathrooms                 1.0000\n",
       "bedrooms                  0.5238\n",
       "accommodates              0.3791\n",
       "price                     0.2750\n",
       "beds                      0.2276\n",
       "maximum_minimum_nights    0.1169\n",
       "minimum_nights_avg_ntm    0.0964\n",
       "minimum_nights            0.0810\n",
       "minimum_minimum_nights    0.0596\n",
       "review_scores_value       0.0526\n",
       "Name: bathrooms, dtype: float64"
      ]
     },
     "execution_count": 75,
     "metadata": {},
     "output_type": "execute_result"
    }
   ],
   "source": [
    "# Mostrar las correlaciones de 'bathrooms' con otras variables\n",
    "matriz_corr['bathrooms'].sort_values(ascending=False).head(10)"
   ]
  },
  {
   "cell_type": "code",
   "execution_count": 74,
   "id": "d910f772",
   "metadata": {},
   "outputs": [
    {
     "name": "stdout",
     "output_type": "stream",
     "text": [
      "Coeficientes obtenidos de baños: [0.45867116 0.02826581]\n",
      "Intercepto: 0.6477542185151096\n",
      "Coeficiente de determinación: 0.2772848261329628\n",
      "Coeficiente de correlación: 0.526578414040077\n",
      "Modelo matemático:\n",
      "Bathrooms = 0.6478 + 0.4587*bedrooms + 0.0283*maximum_minimum_nights\n"
     ]
    }
   ],
   "source": [
    "# Modelo de regresión lineal múltiple para predecir 'bathrooms' usando las variables más correlacionadas \n",
    "\n",
    "# Definir variables independientes y dependiente\n",
    "X = df[['bedrooms', 'maximum_minimum_nights']]\n",
    "y = df['bathrooms']\n",
    "\n",
    "# Ajustar modelo\n",
    "model = LinearRegression()\n",
    "model.fit(X, y)\n",
    "\n",
    "# Coeficiente de intercepto y coeficientes\n",
    "print(f\"Coeficientes obtenidos de baños:\", model.coef_)\n",
    "print(f\"Intercepto:\", model.intercept_)\n",
    "\n",
    "coef_deter = model.score(X, y)  # Coef de determinación\n",
    "print(\"Coeficiente de determinación:\", coef_deter)\n",
    "\n",
    "coef_corre = np.sqrt(coef_deter)  # Coef de correlación\n",
    "print(\"Coeficiente de correlación:\", coef_corre)\n",
    "\n",
    "# Resultados del modelo\n",
    "modelo_str = f\"Bathrooms = {model.intercept_:.4f}\"\n",
    "for c, v in zip(model.coef_, X.columns):\n",
    "    signo = \"+\" if c >= 0 else \"-\"\n",
    "    modelo_str += f\" {signo} {abs(c):.4f}*{v}\"\n",
    "print(\"Modelo matemático:\")\n",
    "print(modelo_str)"
   ]
  },
  {
   "cell_type": "markdown",
   "id": "81f4c220",
   "metadata": {},
   "source": [
    "**Reseñas por mes (reviews per month)**"
   ]
  },
  {
   "cell_type": "code",
   "execution_count": 66,
   "id": "cff8c44d",
   "metadata": {},
   "outputs": [
    {
     "data": {
      "text/plain": [
       "reviews_per_month            1.0000\n",
       "number_of_reviews_ltm        0.6882\n",
       "estimated_occupancy_l365d    0.6784\n",
       "number_of_reviews_ly         0.5148\n",
       "estimated_revenue_l365d      0.4619\n",
       "number_of_reviews            0.3753\n",
       "number_of_reviews_l30d       0.2786\n",
       "host_is_superhost            0.2172\n",
       "id                           0.1695\n",
       "host_acceptance_rate         0.1574\n",
       "Name: reviews_per_month, dtype: float64"
      ]
     },
     "execution_count": 66,
     "metadata": {},
     "output_type": "execute_result"
    }
   ],
   "source": [
    "# Mostrar las correlaciones de 'reviews_per_month' con otras variables\n",
    "matriz_corr['reviews_per_month'].sort_values(ascending=False).head(10)"
   ]
  },
  {
   "cell_type": "code",
   "execution_count": 73,
   "id": "17c95cf0",
   "metadata": {},
   "outputs": [
    {
     "name": "stdout",
     "output_type": "stream",
     "text": [
      "Coeficientes obtenidos de reseñas por mes: [0.03068425 0.00421129]\n",
      "Intercepto: 0.7963021156545593\n",
      "Coeficiente de determinación: 0.5048708793095233\n",
      "Coeficiente de correlación: 0.7105426653688879\n",
      "Modelo matemático:\n",
      "Reseñas por mes = 0.7963 + 0.0307*number_of_reviews_ltm + 0.0042*estimated_occupancy_l365d\n"
     ]
    }
   ],
   "source": [
    "# Modelo de regresión lineal múltiple para predecir 'reviews_per_month' usando las variables más correlacionadas \n",
    "\n",
    "# Definir variables independientes y dependiente\n",
    "X = df[['number_of_reviews_ltm', 'estimated_occupancy_l365d']]\n",
    "y = df['reviews_per_month']\n",
    "\n",
    "# Ajustar modelo\n",
    "model = LinearRegression()\n",
    "model.fit(X, y)\n",
    "\n",
    "# Coeficiente de intercepto y coeficientes\n",
    "print(f\"Coeficientes obtenidos de reseñas por mes:\", model.coef_)\n",
    "print(f\"Intercepto:\", model.intercept_)\n",
    "\n",
    "coef_deter = model.score(X, y)  # Coef de determinación\n",
    "print(\"Coeficiente de determinación:\", coef_deter)\n",
    "\n",
    "coef_corre = np.sqrt(coef_deter)  # Coef de correlación\n",
    "print(\"Coeficiente de correlación:\", coef_corre)\n",
    "\n",
    "# Resultados del modelo\n",
    "modelo_str = f\"Reseñas por mes = {model.intercept_:.4f}\"\n",
    "for c, v in zip(model.coef_, X.columns):\n",
    "    signo = \"+\" if c >= 0 else \"-\"\n",
    "    modelo_str += f\" {signo} {abs(c):.4f}*{v}\"\n",
    "print(\"Modelo matemático:\")\n",
    "print(modelo_str)"
   ]
  }
 ],
 "metadata": {
  "kernelspec": {
   "display_name": "Python 3",
   "language": "python",
   "name": "python3"
  },
  "language_info": {
   "codemirror_mode": {
    "name": "ipython",
    "version": 3
   },
   "file_extension": ".py",
   "mimetype": "text/x-python",
   "name": "python",
   "nbconvert_exporter": "python",
   "pygments_lexer": "ipython3",
   "version": "3.13.6"
  }
 },
 "nbformat": 4,
 "nbformat_minor": 5
}
